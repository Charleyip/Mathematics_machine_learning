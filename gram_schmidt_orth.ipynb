{
 "cells": [
  {
   "cell_type": "markdown",
   "metadata": {},
   "source": [
    "# Question1"
   ]
  },
  {
   "cell_type": "code",
   "execution_count": 207,
   "metadata": {},
   "outputs": [],
   "source": [
    "from scipy.io import loadmat\n",
    "import numpy as np\n",
    "import matplotlib.pyplot as plt"
   ]
  },
  {
   "cell_type": "code",
   "execution_count": 208,
   "metadata": {},
   "outputs": [],
   "source": [
    "polydata = loadmat(\"polydata.mat\")"
   ]
  },
  {
   "cell_type": "code",
   "execution_count": 221,
   "metadata": {},
   "outputs": [
    {
     "data": {
      "text/plain": [
       "array([[ 0.0046453],\n",
       "       [ 0.11852  ],\n",
       "       [-0.030066 ],\n",
       "       [ 0.1064   ],\n",
       "       [-0.059625 ],\n",
       "       [-0.060099 ],\n",
       "       [-0.07444  ],\n",
       "       [-0.050205 ],\n",
       "       [ 0.15365  ],\n",
       "       [ 0.16052  ],\n",
       "       [-0.06001  ],\n",
       "       [ 0.16538  ],\n",
       "       [ 0.15596  ],\n",
       "       [-0.07991  ],\n",
       "       [ 0.008729 ],\n",
       "       [-0.045867 ],\n",
       "       [-0.048543 ],\n",
       "       [ 0.064067 ],\n",
       "       [ 0.055518 ],\n",
       "       [ 0.16057  ],\n",
       "       [-0.035738 ],\n",
       "       [-0.043974 ],\n",
       "       [ 0.03958  ],\n",
       "       [ 0.12162  ],\n",
       "       [-0.038826 ],\n",
       "       [-0.04319  ],\n",
       "       [-0.0083111],\n",
       "       [-0.11175  ],\n",
       "       [-0.054506 ],\n",
       "       [-0.035801 ]])"
      ]
     },
     "execution_count": 221,
     "metadata": {},
     "output_type": "execute_result"
    }
   ],
   "source": [
    "# retrieve the a matrix from data set\n",
    "a_matrix = polydata[\"a\"]\n",
    "b_matrix = polydata[\"b\"]\n",
    "b_matrix"
   ]
  },
  {
   "cell_type": "code",
   "execution_count": 210,
   "metadata": {},
   "outputs": [],
   "source": [
    "# Degree of the Vandermonde matrix to be determined by user\n",
    "def vander_degree(matrix, degree):\n",
    "    '''\n",
    "    Generating the Vandermonde matrix for the given scalar 'matrix'\n",
    "    \n",
    "    '''\n",
    "    vander_matrix = np.vander(matrix.flatten(), degree + 1, increasing=True)\n",
    "\n",
    "    return vander_matrix"
   ]
  },
  {
   "cell_type": "code",
   "execution_count": 211,
   "metadata": {},
   "outputs": [],
   "source": [
    "def least_squares(A, d):\n",
    "    \"\"\"\n",
    "    Solve the least squares problem for Ax = d.\n",
    "    \"\"\"\n",
    "    # Compute A^T * A\n",
    "    AtA = A.T @ A\n",
    "    \n",
    "    # Compute the inverse of A^T * A\n",
    "    AtA_inv = np.linalg.inv(AtA)\n",
    "    \n",
    "    # Compute A^T * d\n",
    "    Atd = A.T @ d\n",
    "    \n",
    "    # Compute the solution vector x\n",
    "    x = AtA_inv @ Atd\n",
    "    \n",
    "    return x\n"
   ]
  },
  {
   "cell_type": "code",
   "execution_count": 212,
   "metadata": {},
   "outputs": [],
   "source": [
    "#when p = 1\n",
    "vander_1 = vander_degree(a_matrix, 1)\n",
    "c1 = least_squares(vander_1, b_matrix)\n"
   ]
  },
  {
   "cell_type": "code",
   "execution_count": 213,
   "metadata": {},
   "outputs": [],
   "source": [
    "#when p = 2\n",
    "vander_2 = vander_degree(a_matrix, 2)\n",
    "c2 = least_squares(vander_2, b_matrix)"
   ]
  },
  {
   "cell_type": "code",
   "execution_count": 214,
   "metadata": {},
   "outputs": [],
   "source": [
    "#when p = 3\n",
    "vander_3 = vander_degree(a_matrix, 3)\n",
    "c3 = least_squares(vander_3, b_matrix)"
   ]
  },
  {
   "cell_type": "code",
   "execution_count": 219,
   "metadata": {},
   "outputs": [
    {
     "data": {
      "text/plain": [
       "array([[ 0.05537462],\n",
       "       [ 0.07488242],\n",
       "       [-0.09194166],\n",
       "       [ 0.07650824],\n",
       "       [ 0.01631191],\n",
       "       [-0.09825004],\n",
       "       [-0.05948722],\n",
       "       [-0.00199846],\n",
       "       [ 0.08596118],\n",
       "       [ 0.08754202],\n",
       "       [-0.08538265],\n",
       "       [ 0.088763  ],\n",
       "       [ 0.08588835],\n",
       "       [-0.01517217],\n",
       "       [ 0.05228148],\n",
       "       [-0.08874998],\n",
       "       [-0.02879999],\n",
       "       [ 0.07701377],\n",
       "       [ 0.05055283],\n",
       "       [ 0.08638531],\n",
       "       [ 0.02132006],\n",
       "       [-0.111494  ],\n",
       "       [ 0.06274547],\n",
       "       [ 0.08092304],\n",
       "       [ 0.02624681],\n",
       "       [ 0.04316913],\n",
       "       [ 0.04003958],\n",
       "       [-0.03512551],\n",
       "       [ 0.02126437],\n",
       "       [-0.08247373]])"
      ]
     },
     "execution_count": 219,
     "metadata": {},
     "output_type": "execute_result"
    }
   ],
   "source": [
    "y_fit1 = vander_1 @ c1\n",
    "y_fit1"
   ]
  },
  {
   "cell_type": "code",
   "execution_count": 223,
   "metadata": {},
   "outputs": [
    {
     "data": {
      "image/png": "[encoded data removed]",
      "text/plain": [
       "<Figure size 640x480 with 1 Axes>"
      ]
     },
     "metadata": {},
     "output_type": "display_data"
    }
   ],
   "source": [
    "# Plot the original points\n",
    "plt.scatter(a_matrix, b_matrix, color='black', label='Data Points')\n",
    "\n",
    "\n",
    "a_range = np.linspace(a_matrix.min(), a_matrix.max(), 30)\n",
    "V1_plot = vander_degree(a_range, 1)\n",
    "V2_plot = vander_degree(a_range, 2)\n",
    "V3_plot = vander_degree(a_range, 3)\n",
    "\n",
    "# Calculate the polynomial values\n",
    "y_fit1 = V1_plot @ c1\n",
    "y_fit2 = V2_plot @ c2\n",
    "y_fit3 = V3_plot @ c3\n",
    "\n",
    "\n",
    "\n",
    "# Plot the polynomial fits\n",
    "plt.plot(a_range, y_fit1, label='Degree 1 Fit')\n",
    "plt.plot(a_range, y_fit2, label='Degree 2 Fit')\n",
    "plt.plot(a_range, y_fit3, label='Degree 3 Fit')\n",
    "\n",
    "\n",
    "\n",
    "plt.xlabel('x')\n",
    "plt.ylabel('y')\n",
    "plt.title('Polynomial Fits of Different Degrees')\n",
    "plt.legend()\n",
    "plt.show()"
   ]
  },
  {
   "cell_type": "markdown",
   "metadata": {},
   "source": [
    "# Question 3"
   ]
  },
  {
   "cell_type": "code",
   "execution_count": null,
   "metadata": {},
   "outputs": [
    {
     "name": "stdout",
     "output_type": "stream",
     "text": [
      "[[ 0.33333333  0.         -0.2981424 ]\n",
      " [ 0.66666667  0.         -0.59628479]\n",
      " [ 0.66666667  0.          0.74535599]]\n",
      "[[1.00000000e+00 5.55111512e-16 0.00000000e+00 0.00000000e+00\n",
      "  0.00000000e+00]\n",
      " [5.55111512e-16 1.00000000e+00 0.00000000e+00 0.00000000e+00\n",
      "  0.00000000e+00]\n",
      " [0.00000000e+00 0.00000000e+00 0.00000000e+00 0.00000000e+00\n",
      "  0.00000000e+00]\n",
      " [0.00000000e+00 0.00000000e+00 0.00000000e+00 0.00000000e+00\n",
      "  0.00000000e+00]\n",
      " [0.00000000e+00 0.00000000e+00 0.00000000e+00 0.00000000e+00\n",
      "  0.00000000e+00]]\n"
     ]
    }
   ],
   "source": [
    "def gram_schmidt(B):\n",
    "    \"\"\"Orthogonalize a set of vectors stored as the columns of matrix B.\"\"\"\n",
    "    # Get the number of vectors.\n",
    "    m, n = B.shape\n",
    "    # Create new matrix to hold the orthonormal basis\n",
    "    U = np.zeros([m,n]) \n",
    "    for j in range(n):\n",
    "        # To orthogonalize the vector in column j with respect to the\n",
    "        # previous vectors, subtract from it its projection onto\n",
    "        # each of the previous vectors.\n",
    "        v = B[:,j].copy()\n",
    "        for k in range(j):\n",
    "            v -= np.dot(U[:, k], B[:, j]) * U[:, k]\n",
    "        if np.linalg.norm(v)>1e-10:\n",
    "            U[:, j] = v / np.linalg.norm(v)\n",
    "    return U\n",
    "\n",
    "if __name__ == '__main__':\n",
    "    B1 = np.array([[1.0, 1.0, 0.0], [2.0, 2.0, 0.0], [2.0, 2.0, 1.0]])\n",
    "    A1 = gram_schmidt(B1)\n",
    "    print(A1)\n",
    "    A2 = gram_schmidt(np.random.rand(4,2)@np.random.rand(2,5))\n",
    "    print(A2.transpose()@A2)"
   ]
  },
  {
   "cell_type": "code",
   "execution_count": null,
   "metadata": {},
   "outputs": [
    {
     "data": {
      "text/plain": [
       "{'__header__': b'MATLAB 5.0 MAT-file, Platform: MACI64, Created on: Mon Aug 27 12:46:41 2018',\n",
       " '__version__': '1.0',\n",
       " '__globals__': [],\n",
       " 'X': array([[ 4,  7,  2,  8,  7,  4,  2],\n",
       "        [ 9,  3,  5,  6, 10,  5,  5],\n",
       "        [ 4,  8,  3,  7,  6,  4,  1],\n",
       "        [ 9,  2,  6,  5,  9,  5,  4],\n",
       "        [ 4,  9,  2,  8,  7,  4,  1]], dtype=uint8)}"
      ]
     },
     "execution_count": 140,
     "metadata": {},
     "output_type": "execute_result"
    }
   ],
   "source": [
    "movie = loadmat(\"movie.mat\")\n",
    "movie"
   ]
  },
  {
   "cell_type": "code",
   "execution_count": null,
   "metadata": {},
   "outputs": [
    {
     "data": {
      "text/plain": [
       "array([[ 4,  7,  2,  8,  7,  4,  2],\n",
       "       [ 9,  3,  5,  6, 10,  5,  5],\n",
       "       [ 4,  8,  3,  7,  6,  4,  1],\n",
       "       [ 9,  2,  6,  5,  9,  5,  4],\n",
       "       [ 4,  9,  2,  8,  7,  4,  1]], dtype=uint8)"
      ]
     },
     "execution_count": 141,
     "metadata": {},
     "output_type": "execute_result"
    }
   ],
   "source": [
    "X = movie[\"X\"]\n",
    "X"
   ]
  },
  {
   "cell_type": "markdown",
   "metadata": {},
   "source": []
  },
  {
   "cell_type": "code",
   "execution_count": null,
   "metadata": {},
   "outputs": [
    {
     "data": {
      "text/plain": [
       "array([[ 4.,  7.,  2.,  8.,  7.,  4.,  2.],\n",
       "       [ 9.,  3.,  5.,  6., 10.,  5.,  5.],\n",
       "       [ 4.,  8.,  3.,  7.,  6.,  4.,  1.],\n",
       "       [ 9.,  2.,  6.,  5.,  9.,  5.,  4.],\n",
       "       [ 4.,  9.,  2.,  8.,  7.,  4.,  1.]])"
      ]
     },
     "execution_count": 142,
     "metadata": {},
     "output_type": "execute_result"
    }
   ],
   "source": [
    "#convert the X matrix to float type\n",
    "X = X.astype('float64')\n",
    "X"
   ]
  },
  {
   "cell_type": "code",
   "execution_count": null,
   "metadata": {},
   "outputs": [
    {
     "data": {
      "text/plain": [
       "array([[ 1.,  4.,  7.,  2.,  8.,  7.,  4.,  2.],\n",
       "       [ 1.,  9.,  3.,  5.,  6., 10.,  5.,  5.],\n",
       "       [ 1.,  4.,  8.,  3.,  7.,  6.,  4.,  1.],\n",
       "       [ 1.,  9.,  2.,  6.,  5.,  9.,  5.,  4.],\n",
       "       [ 1.,  4.,  9.,  2.,  8.,  7.,  4.,  1.]])"
      ]
     },
     "execution_count": 143,
     "metadata": {},
     "output_type": "execute_result"
    }
   ],
   "source": [
    "unity_vector = np.ones((5, 1))\n",
    "\n",
    "# Concatenating the unity vector to the left of the original X matrix\n",
    "X1 = np.hstack((unity_vector, X))\n",
    "\n",
    "X1\n"
   ]
  },
  {
   "cell_type": "code",
   "execution_count": null,
   "metadata": {},
   "outputs": [
    {
     "data": {
      "text/plain": [
       "array([[ 4.47213595e-01, -3.65148372e-01, -6.32455532e-01,\n",
       "        -5.16397779e-01,  0.00000000e+00,  0.00000000e+00,\n",
       "         0.00000000e+00, -4.55191440e-15],\n",
       "       [ 4.47213595e-01,  5.47722558e-01,  3.16227766e-01,\n",
       "        -3.87298335e-01,  0.00000000e+00,  0.00000000e+00,\n",
       "         0.00000000e+00,  5.00000000e-01],\n",
       "       [ 4.47213595e-01, -3.65148372e-01,  1.96606674e-15,\n",
       "         6.45497224e-01,  0.00000000e+00,  0.00000000e+00,\n",
       "         0.00000000e+00,  5.00000000e-01],\n",
       "       [ 4.47213595e-01,  5.47722558e-01, -3.16227766e-01,\n",
       "         3.87298335e-01,  0.00000000e+00,  0.00000000e+00,\n",
       "         0.00000000e+00, -5.00000000e-01],\n",
       "       [ 4.47213595e-01, -3.65148372e-01,  6.32455532e-01,\n",
       "        -1.29099445e-01,  0.00000000e+00,  0.00000000e+00,\n",
       "         0.00000000e+00, -5.00000000e-01]])"
      ]
     },
     "execution_count": 144,
     "metadata": {},
     "output_type": "execute_result"
    }
   ],
   "source": [
    "T = gram_schmidt(X1)\n",
    "T"
   ]
  },
  {
   "cell_type": "markdown",
   "metadata": {},
   "source": [
    "the first basis vector is equal to t1"
   ]
  },
  {
   "cell_type": "markdown",
   "metadata": {},
   "source": [
    "## b"
   ]
  },
  {
   "cell_type": "code",
   "execution_count": null,
   "metadata": {},
   "outputs": [
    {
     "data": {
      "text/plain": [
       "array([[6. , 5.8, 3.6, 6.8, 7.8, 4.4, 2.6],\n",
       "       [6. , 5.8, 3.6, 6.8, 7.8, 4.4, 2.6],\n",
       "       [6. , 5.8, 3.6, 6.8, 7.8, 4.4, 2.6],\n",
       "       [6. , 5.8, 3.6, 6.8, 7.8, 4.4, 2.6],\n",
       "       [6. , 5.8, 3.6, 6.8, 7.8, 4.4, 2.6]])"
      ]
     },
     "execution_count": 145,
     "metadata": {},
     "output_type": "execute_result"
    }
   ],
   "source": [
    "w1 = np.array([[30, 29, 18, 34, 39, 22, 13]])* (5**(-0.5))\n",
    "t1 = np.array([[1], [1], [1], [1], [1]]) * (5**(-0.5))\n",
    "x1 = t1 @ w1\n",
    "x1\n",
    "\n"
   ]
  },
  {
   "cell_type": "code",
   "execution_count": null,
   "metadata": {},
   "outputs": [
    {
     "data": {
      "text/plain": [
       "array([[ 4.,  7.,  2.,  8.,  7.,  4.,  2.],\n",
       "       [ 9.,  3.,  5.,  6., 10.,  5.,  5.],\n",
       "       [ 4.,  8.,  3.,  7.,  6.,  4.,  1.],\n",
       "       [ 9.,  2.,  6.,  5.,  9.,  5.,  4.],\n",
       "       [ 4.,  9.,  2.,  8.,  7.,  4.,  1.]])"
      ]
     },
     "execution_count": 146,
     "metadata": {},
     "output_type": "execute_result"
    }
   ],
   "source": [
    "X"
   ]
  },
  {
   "cell_type": "markdown",
   "metadata": {},
   "source": [
    "The Residual matrix 1:"
   ]
  },
  {
   "cell_type": "code",
   "execution_count": null,
   "metadata": {},
   "outputs": [
    {
     "name": "stdout",
     "output_type": "stream",
     "text": [
      "[[-2.   1.2 -1.6  1.2 -0.8 -0.4 -0.6]\n",
      " [ 3.  -2.8  1.4 -0.8  2.2  0.6  2.4]\n",
      " [-2.   2.2 -0.6  0.2 -1.8 -0.4 -1.6]\n",
      " [ 3.  -3.8  2.4 -1.8  1.2  0.6  1.4]\n",
      " [-2.   3.2 -1.6  1.2 -0.8 -0.4 -1.6]]\n"
     ]
    }
   ],
   "source": [
    "R1 = X - x1\n",
    "print(R1)"
   ]
  },
  {
   "cell_type": "markdown",
   "metadata": {},
   "source": [
    "## c"
   ]
  },
  {
   "cell_type": "markdown",
   "metadata": {},
   "source": [
    "According to the question(a), the second basis vector of A2 should be t2"
   ]
  },
  {
   "cell_type": "code",
   "execution_count": null,
   "metadata": {},
   "outputs": [],
   "source": [
    "t1 = T[:, 0] \n",
    "t2 = T[:, 1]"
   ]
  },
  {
   "cell_type": "code",
   "execution_count": null,
   "metadata": {},
   "outputs": [
    {
     "data": {
      "text/plain": [
       "array([[ 0.4472136 , -0.36514837],\n",
       "       [ 0.4472136 ,  0.54772256],\n",
       "       [ 0.4472136 , -0.36514837],\n",
       "       [ 0.4472136 ,  0.54772256],\n",
       "       [ 0.4472136 , -0.36514837]])"
      ]
     },
     "execution_count": 149,
     "metadata": {},
     "output_type": "execute_result"
    }
   ],
   "source": [
    "T2 = np.column_stack((t1, t2))\n",
    "T2"
   ]
  },
  {
   "cell_type": "markdown",
   "metadata": {},
   "source": [
    "here use the least squred methods to get $ W = (T^T T)^{-1} T^T X $, but since T is an orthonogal matrix, it can be written as $ W = T^T X $"
   ]
  },
  {
   "cell_type": "code",
   "execution_count": null,
   "metadata": {},
   "outputs": [
    {
     "data": {
      "text/plain": [
       "array([[13.41640786, 12.96919427,  8.04984472, 15.20526225, 17.44133022,\n",
       "         9.8386991 ,  5.81377674],\n",
       "       [ 5.47722558, -6.02494813,  3.46890953, -2.37346442,  3.10376116,\n",
       "         1.09544512,  3.46890953]])"
      ]
     },
     "execution_count": 164,
     "metadata": {},
     "output_type": "execute_result"
    }
   ],
   "source": [
    "W2 = T2.transpose()@X\n",
    "W2"
   ]
  },
  {
   "cell_type": "code",
   "execution_count": null,
   "metadata": {},
   "outputs": [],
   "source": []
  },
  {
   "cell_type": "code",
   "execution_count": null,
   "metadata": {},
   "outputs": [
    {
     "data": {
      "text/plain": [
       "array([[4.        , 8.        , 2.33333333, 7.66666667, 6.66666667,\n",
       "        4.        , 1.33333333],\n",
       "       [9.        , 2.5       , 5.5       , 5.5       , 9.5       ,\n",
       "        5.        , 4.5       ],\n",
       "       [4.        , 8.        , 2.33333333, 7.66666667, 6.66666667,\n",
       "        4.        , 1.33333333],\n",
       "       [9.        , 2.5       , 5.5       , 5.5       , 9.5       ,\n",
       "        5.        , 4.5       ],\n",
       "       [4.        , 8.        , 2.33333333, 7.66666667, 6.66666667,\n",
       "        4.        , 1.33333333]])"
      ]
     },
     "execution_count": 167,
     "metadata": {},
     "output_type": "execute_result"
    }
   ],
   "source": [
    "X_approximate2 = T2@W2\n",
    "X_approximate2"
   ]
  },
  {
   "cell_type": "code",
   "execution_count": null,
   "metadata": {},
   "outputs": [
    {
     "data": {
      "text/plain": [
       "array([[ 1.77635684e-15, -1.00000000e+00, -3.33333333e-01,\n",
       "         3.33333333e-01,  3.33333333e-01,  1.77635684e-15,\n",
       "         6.66666667e-01],\n",
       "       [-3.55271368e-15,  5.00000000e-01, -5.00000000e-01,\n",
       "         5.00000000e-01,  5.00000000e-01, -1.77635684e-15,\n",
       "         5.00000000e-01],\n",
       "       [ 1.77635684e-15,  2.66453526e-15,  6.66666667e-01,\n",
       "        -6.66666667e-01, -6.66666667e-01,  1.77635684e-15,\n",
       "        -3.33333333e-01],\n",
       "       [-3.55271368e-15, -5.00000000e-01,  5.00000000e-01,\n",
       "        -5.00000000e-01, -5.00000000e-01, -1.77635684e-15,\n",
       "        -5.00000000e-01],\n",
       "       [ 1.77635684e-15,  1.00000000e+00, -3.33333333e-01,\n",
       "         3.33333333e-01,  3.33333333e-01,  1.77635684e-15,\n",
       "        -3.33333333e-01]])"
      ]
     },
     "execution_count": 168,
     "metadata": {},
     "output_type": "execute_result"
    }
   ],
   "source": [
    "R2 = X - X_approximate2\n",
    "R2"
   ]
  },
  {
   "cell_type": "markdown",
   "metadata": {},
   "source": [
    "## c"
   ]
  },
  {
   "cell_type": "code",
   "execution_count": null,
   "metadata": {},
   "outputs": [
    {
     "data": {
      "text/plain": [
       "array([-6.32455532e-01,  3.16227766e-01,  1.96606674e-15, -3.16227766e-01,\n",
       "        6.32455532e-01])"
      ]
     },
     "execution_count": 159,
     "metadata": {},
     "output_type": "execute_result"
    }
   ],
   "source": [
    "t3 = T[:,2]\n",
    "t3"
   ]
  },
  {
   "cell_type": "code",
   "execution_count": null,
   "metadata": {},
   "outputs": [
    {
     "data": {
      "text/plain": [
       "array([[ 4.47213595e-01, -3.65148372e-01, -6.32455532e-01],\n",
       "       [ 4.47213595e-01,  5.47722558e-01,  3.16227766e-01],\n",
       "       [ 4.47213595e-01, -3.65148372e-01,  1.96606674e-15],\n",
       "       [ 4.47213595e-01,  5.47722558e-01, -3.16227766e-01],\n",
       "       [ 4.47213595e-01, -3.65148372e-01,  6.32455532e-01]])"
      ]
     },
     "execution_count": 160,
     "metadata": {},
     "output_type": "execute_result"
    }
   ],
   "source": [
    "T3 = np.column_stack((t1, t2, t3))\n",
    "T3"
   ]
  },
  {
   "cell_type": "code",
   "execution_count": null,
   "metadata": {},
   "outputs": [
    {
     "data": {
      "text/plain": [
       "array([[ 1.34164079e+01,  1.29691943e+01,  8.04984472e+00,\n",
       "         1.52052622e+01,  1.74413302e+01,  9.83869910e+00,\n",
       "         5.81377674e+00],\n",
       "       [ 5.47722558e+00, -6.02494813e+00,  3.46890953e+00,\n",
       "        -2.37346442e+00,  3.10376116e+00,  1.09544512e+00,\n",
       "         3.46890953e+00],\n",
       "       [ 7.99360578e-15,  1.58113883e+00, -3.16227766e-01,\n",
       "         3.16227766e-01,  3.16227766e-01,  1.50990331e-14,\n",
       "        -3.16227766e-01]])"
      ]
     },
     "execution_count": 169,
     "metadata": {},
     "output_type": "execute_result"
    }
   ],
   "source": [
    "W3 = T3.transpose()@X\n",
    "W3"
   ]
  },
  {
   "cell_type": "code",
   "execution_count": null,
   "metadata": {},
   "outputs": [
    {
     "data": {
      "text/plain": [
       "array([[4.        , 7.        , 2.53333333, 7.46666667, 6.46666667,\n",
       "        4.        , 1.53333333],\n",
       "       [9.        , 3.        , 5.4       , 5.6       , 9.6       ,\n",
       "        5.        , 4.4       ],\n",
       "       [4.        , 8.        , 2.33333333, 7.66666667, 6.66666667,\n",
       "        4.        , 1.33333333],\n",
       "       [9.        , 2.        , 5.6       , 5.4       , 9.4       ,\n",
       "        5.        , 4.6       ],\n",
       "       [4.        , 9.        , 2.13333333, 7.86666667, 6.86666667,\n",
       "        4.        , 1.13333333]])"
      ]
     },
     "execution_count": 171,
     "metadata": {},
     "output_type": "execute_result"
    }
   ],
   "source": [
    "X_approximate3 = T3@W3\n",
    "X_approximate3 "
   ]
  },
  {
   "cell_type": "markdown",
   "metadata": {},
   "source": [
    "The residual for rank 3 should be"
   ]
  },
  {
   "cell_type": "code",
   "execution_count": null,
   "metadata": {},
   "outputs": [
    {
     "data": {
      "text/plain": [
       "array([[ 6.66133815e-15,  2.75335310e-14, -5.33333333e-01,\n",
       "         5.33333333e-01,  5.33333333e-01,  1.15463195e-14,\n",
       "         4.66666667e-01],\n",
       "       [-5.32907052e-15, -1.37667655e-14, -4.00000000e-01,\n",
       "         4.00000000e-01,  4.00000000e-01, -6.21724894e-15,\n",
       "         6.00000000e-01],\n",
       "       [ 1.77635684e-15,  0.00000000e+00,  6.66666667e-01,\n",
       "        -6.66666667e-01, -6.66666667e-01,  1.77635684e-15,\n",
       "        -3.33333333e-01],\n",
       "       [-1.77635684e-15,  1.31006317e-14,  4.00000000e-01,\n",
       "        -4.00000000e-01, -4.00000000e-01,  2.66453526e-15,\n",
       "        -6.00000000e-01],\n",
       "       [-3.55271368e-15, -2.66453526e-14, -1.33333333e-01,\n",
       "         1.33333333e-01,  1.33333333e-01, -7.99360578e-15,\n",
       "        -1.33333333e-01]])"
      ]
     },
     "execution_count": 172,
     "metadata": {},
     "output_type": "execute_result"
    }
   ],
   "source": [
    "R3 = X - X_approximate3\n",
    "R3"
   ]
  }
 ],
 "metadata": {
  "kernelspec": {
   "display_name": "Python 3",
   "language": "python",
   "name": "python3"
  },
  "language_info": {
   "codemirror_mode": {
    "name": "ipython",
    "version": 3
   },
   "file_extension": ".py",
   "mimetype": "text/x-python",
   "name": "python",
   "nbconvert_exporter": "python",
   "pygments_lexer": "ipython3",
   "version": "3.9.13"
  }
 },
 "nbformat": 4,
 "nbformat_minor": 2
}
