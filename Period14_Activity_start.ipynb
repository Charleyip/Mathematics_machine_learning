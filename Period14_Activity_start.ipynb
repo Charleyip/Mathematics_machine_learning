{
 "cells": [
  {
   "cell_type": "code",
   "execution_count": 23,
   "metadata": {},
   "outputs": [],
   "source": [
    "import numpy as np\n",
    "import matplotlib.pyplot as plt "
   ]
  },
  {
   "cell_type": "markdown",
   "metadata": {},
   "source": [
    "#"
   ]
  },
  {
   "cell_type": "markdown",
   "metadata": {},
   "source": [
    "# 1)"
   ]
  },
  {
   "cell_type": "code",
   "execution_count": 24,
   "metadata": {},
   "outputs": [
    {
     "data": {
      "text/plain": [
       "(array([[10, -6],\n",
       "        [-6, 10]]),\n",
       " array([16.,  4.]),\n",
       " array([[ 0.70710678,  0.70710678],\n",
       "        [-0.70710678,  0.70710678]]),\n",
       " array([4., 2.]))"
      ]
     },
     "execution_count": 24,
     "metadata": {},
     "output_type": "execute_result"
    }
   ],
   "source": [
    "B = np.array([[3,-1],[-1,3]])\n",
    "B_T_B = np.dot(B.T, B)\n",
    "\n",
    "# calculte the eigenvalue and eigenvectors of BTB\n",
    "eigenvalues, eigenvectors = np.linalg.eig(B_T_B)\n",
    "\n",
    "# singular values \n",
    "singular_values = np.sqrt(eigenvalues)\n",
    "\n",
    "B_T_B, eigenvalues, eigenvectors, singular_values"
   ]
  },
  {
   "cell_type": "code",
   "execution_count": 25,
   "metadata": {},
   "outputs": [
    {
     "data": {
      "text/plain": [
       "array([4., 2.])"
      ]
     },
     "execution_count": 25,
     "metadata": {},
     "output_type": "execute_result"
    }
   ],
   "source": [
    "B = np.array([[3, -1], [-1, 3]])\n",
    "\n",
    "eigenvalues, _ = np.linalg.eig(B)\n",
    "\n",
    "eigenvalues"
   ]
  },
  {
   "cell_type": "markdown",
   "metadata": {},
   "source": [
    "#### 3a) "
   ]
  },
  {
   "cell_type": "code",
   "execution_count": 26,
   "metadata": {},
   "outputs": [
    {
     "name": "stdout",
     "output_type": "stream",
     "text": [
      "Unweighted adjacency matrix\n",
      "[[0 1 0 0 0 0 0 1]\n",
      " [1 0 1 0 0 0 0 0]\n",
      " [1 1 0 1 1 0 0 0]\n",
      " [0 0 1 0 1 0 0 0]\n",
      " [0 0 0 1 0 1 0 0]\n",
      " [0 0 0 0 1 0 1 0]\n",
      " [0 0 0 0 0 1 0 1]\n",
      " [1 0 0 0 0 0 1 0]]\n",
      " \n"
     ]
    }
   ],
   "source": [
    "# Circle topology\n",
    "# Unweighted adjacency matrix\n",
    "\n",
    "# Option 1: Manually enter the entries\n",
    "Atilde = np.array(\n",
    "         [[0,1,0,0,0,0,0,1],\n",
    "          [1,0,1,0,0,0,0,0],\n",
    "          [1,1,0,1,1,0,0,0],\n",
    "          [0,0,1,0,1,0,0,0],\n",
    "          [0,0,0,1,0,1,0,0],\n",
    "          [0,0,0,0,1,0,1,0],\n",
    "          [0,0,0,0,0,1,0,1],\n",
    "          [1,0,0,0,0,0,1,0]])\n",
    "\n",
    "# Option 2: or you can exploit the patterns\n",
    "# Atilde = np.zeros((8,8))\n",
    "# for i in range(8): # \n",
    "#     Atilde[i,(i+1)%8] = 1\n",
    "#     Atilde[i,(i-1)%8] = 1\n",
    "# Atilde[2,0] = 1\n",
    "# Atilde[2,4] = 1\n",
    "\n",
    "print('Unweighted adjacency matrix')\n",
    "print(Atilde)\n",
    "print(' ')"
   ]
  },
  {
   "cell_type": "markdown",
   "metadata": {},
   "source": [
    "#### 3b)"
   ]
  },
  {
   "cell_type": "code",
   "execution_count": 27,
   "metadata": {},
   "outputs": [
    {
     "name": "stdout",
     "output_type": "stream",
     "text": [
      "Weighted adjacency matrix\n",
      "[[0.         0.5        0.         0.         0.         0.\n",
      "  0.         0.5       ]\n",
      " [0.33333333 0.         0.5        0.         0.         0.\n",
      "  0.         0.        ]\n",
      " [0.33333333 0.5        0.         0.5        0.33333333 0.\n",
      "  0.         0.        ]\n",
      " [0.         0.         0.5        0.         0.33333333 0.\n",
      "  0.         0.        ]\n",
      " [0.         0.         0.         0.5        0.         0.5\n",
      "  0.         0.        ]\n",
      " [0.         0.         0.         0.         0.33333333 0.\n",
      "  0.5        0.        ]\n",
      " [0.         0.         0.         0.         0.         0.5\n",
      "  0.         0.5       ]\n",
      " [0.33333333 0.         0.         0.         0.         0.\n",
      "  0.5        0.        ]]\n"
     ]
    }
   ],
   "source": [
    "# Find weighted adjacency matrix\n",
    "# option 1: normalize columns with a for loop\n",
    "A = np.zeros((8,8), dtype=float)\n",
    "for k in range(8):\n",
    "    norm = np.sum(Atilde[:,k])\n",
    "    A[:,k] = Atilde[:,k] / Atilde[:,k].sum()\n",
    "    \n",
    "# option 2: normalize using numpy.sum() and broadcasting, in a single line\n",
    "# A = ???\n",
    "\n",
    "print('Weighted adjacency matrix')\n",
    "print(A)"
   ]
  },
  {
   "cell_type": "markdown",
   "metadata": {},
   "source": [
    "#### 3c) and 3d)"
   ]
  },
  {
   "cell_type": "code",
   "execution_count": 28,
   "metadata": {},
   "outputs": [
    {
     "name": "stdout",
     "output_type": "stream",
     "text": [
      "b0 =  [[0.125]\n",
      " [0.125]\n",
      " [0.125]\n",
      " [0.125]\n",
      " [0.125]\n",
      " [0.125]\n",
      " [0.125]\n",
      " [0.125]]\n",
      " \n",
      "b1 =  [[0.125     ]\n",
      " [0.10416667]\n",
      " [0.20833333]\n",
      " [0.10416667]\n",
      " [0.125     ]\n",
      " [0.10416667]\n",
      " [0.125     ]\n",
      " [0.10416667]]\n",
      " \n"
     ]
    }
   ],
   "source": [
    "# Power method\n",
    "\n",
    "b0 = 0.125*np.ones((8,1))\n",
    "print('b0 = ', b0)\n",
    "print(' ')\n",
    "\n",
    "b1 = A@b0\n",
    "print('b1 = ', b1)\n",
    "print(' ')\n",
    "\n",
    "\n",
    "\n",
    "\n",
    "\n",
    "\n",
    "\n"
   ]
  },
  {
   "cell_type": "code",
   "execution_count": 29,
   "metadata": {},
   "outputs": [
    {
     "name": "stdout",
     "output_type": "stream",
     "text": [
      "1000 iterations\n",
      "b =  [[0.11538462]\n",
      " [0.15384615]\n",
      " [0.23076923]\n",
      " [0.15384615]\n",
      " [0.11538462]\n",
      " [0.07692308]\n",
      " [0.07692308]\n",
      " [0.07692308]]\n"
     ]
    }
   ],
   "source": [
    "b = b0.copy()\n",
    "for k in range(1000):\n",
    "    b = A @ b\n",
    "    \n",
    "print('1000 iterations')\n",
    "print('b = ',b)"
   ]
  },
  {
   "cell_type": "markdown",
   "metadata": {},
   "source": [
    "#### 3e) Explanation goes here.\n",
    "\n",
    "The values in the PageRank vector represent the steady-state distribution of the importance across the nodes. The third nodes seems to be the most important since the value is greater than other nodes. Through the graph, more nodes are pointed to node 3"
   ]
  },
  {
   "cell_type": "markdown",
   "metadata": {},
   "source": [
    "#### 4a)"
   ]
  },
  {
   "cell_type": "code",
   "execution_count": 30,
   "metadata": {},
   "outputs": [
    {
     "name": "stdout",
     "output_type": "stream",
     "text": [
      "Unweighted adjacency matrix\n",
      "[[0. 0. 0. 0. 0. 0. 0. 0. 1.]\n",
      " [0. 0. 0. 0. 0. 0. 0. 0. 1.]\n",
      " [0. 0. 0. 0. 0. 0. 0. 0. 1.]\n",
      " [0. 0. 0. 0. 0. 0. 0. 0. 1.]\n",
      " [0. 0. 0. 0. 0. 0. 0. 0. 1.]\n",
      " [0. 0. 0. 0. 0. 0. 0. 0. 1.]\n",
      " [0. 0. 0. 0. 0. 0. 0. 0. 1.]\n",
      " [0. 0. 0. 0. 0. 0. 0. 0. 1.]\n",
      " [1. 1. 1. 1. 1. 1. 1. 1. 0.]]\n",
      " \n"
     ]
    }
   ],
   "source": [
    "# Hub topology\n",
    "\n",
    "Atildehub = np.array([\n",
    "       [0., 0., 0., 0., 0., 0., 0., 0., 1.],\n",
    "       [0., 0., 0., 0., 0., 0., 0., 0., 1.],\n",
    "       [0., 0., 0., 0., 0., 0., 0., 0., 1.],\n",
    "       [0., 0., 0., 0., 0., 0., 0., 0., 1.],\n",
    "       [0., 0., 0., 0., 0., 0., 0., 0., 1.],\n",
    "       [0., 0., 0., 0., 0., 0., 0., 0., 1.],\n",
    "       [0., 0., 0., 0., 0., 0., 0., 0., 1.],\n",
    "       [0., 0., 0., 0., 0., 0., 0., 0., 1.],\n",
    "       [1., 1., 1., 1., 1., 1., 1., 1., 0.]])\n",
    "\n",
    "print('Unweighted adjacency matrix')\n",
    "print(Atildehub)\n",
    "print(' ')"
   ]
  },
  {
   "cell_type": "markdown",
   "metadata": {},
   "source": [
    "#### 4b)"
   ]
  },
  {
   "cell_type": "code",
   "execution_count": 31,
   "metadata": {},
   "outputs": [
    {
     "name": "stdout",
     "output_type": "stream",
     "text": [
      "Weighted adjacency matrix\n",
      "[[0.    0.    0.    0.    0.    0.    0.    0.    0.125]\n",
      " [0.    0.    0.    0.    0.    0.    0.    0.    0.125]\n",
      " [0.    0.    0.    0.    0.    0.    0.    0.    0.125]\n",
      " [0.    0.    0.    0.    0.    0.    0.    0.    0.125]\n",
      " [0.    0.    0.    0.    0.    0.    0.    0.    0.125]\n",
      " [0.    0.    0.    0.    0.    0.    0.    0.    0.125]\n",
      " [0.    0.    0.    0.    0.    0.    0.    0.    0.125]\n",
      " [0.    0.    0.    0.    0.    0.    0.    0.    0.125]\n",
      " [1.    1.    1.    1.    1.    1.    1.    1.    0.   ]]\n"
     ]
    }
   ],
   "source": [
    "\n",
    "# find weighted adjacency matrix\n",
    "\n",
    "Ahub = Atildehub / Atildehub.sum(axis = 0)\n",
    "\n",
    "print('Weighted adjacency matrix')\n",
    "print(Ahub)"
   ]
  },
  {
   "cell_type": "markdown",
   "metadata": {},
   "source": [
    "#### 4c) and 4d)"
   ]
  },
  {
   "cell_type": "code",
   "execution_count": 32,
   "metadata": {},
   "outputs": [
    {
     "name": "stdout",
     "output_type": "stream",
     "text": [
      "b0 =  [[0.11111111]\n",
      " [0.11111111]\n",
      " [0.11111111]\n",
      " [0.11111111]\n",
      " [0.11111111]\n",
      " [0.11111111]\n",
      " [0.11111111]\n",
      " [0.11111111]\n",
      " [0.11111111]]\n",
      " \n",
      "bhub1 =  [[0.01388889]\n",
      " [0.01388889]\n",
      " [0.01388889]\n",
      " [0.01388889]\n",
      " [0.01388889]\n",
      " [0.01388889]\n",
      " [0.01388889]\n",
      " [0.01388889]\n",
      " [0.88888889]]\n",
      " \n",
      "1000 iterations\n",
      "bhub =  [[0.11111111]\n",
      " [0.11111111]\n",
      " [0.11111111]\n",
      " [0.11111111]\n",
      " [0.11111111]\n",
      " [0.11111111]\n",
      " [0.11111111]\n",
      " [0.11111111]\n",
      " [0.11111111]]\n",
      " \n"
     ]
    }
   ],
   "source": [
    "b0 = (1/9)*np.ones((9,1))\n",
    "print('b0 = ', b0)\n",
    "print(' ')\n",
    "\n",
    "bhub1 = Ahub @ b0\n",
    "print('bhub1 = ', bhub1)\n",
    "print(' ')\n",
    "\n",
    "bhub = b0.copy()\n",
    "for k in range(1000):\n",
    "    bhub = Ahub@bhub\n",
    "    \n",
    "print('1000 iterations')\n",
    "print('bhub = ', bhub)\n",
    "print(' ')\n",
    "\n",
    "\n",
    "\n",
    "\n",
    "\n",
    "\n"
   ]
  },
  {
   "cell_type": "code",
   "execution_count": 33,
   "metadata": {},
   "outputs": [
    {
     "name": "stdout",
     "output_type": "stream",
     "text": [
      "100 iterations\n",
      "bhubr =  [[0.11111111]\n",
      " [0.11111111]\n",
      " [0.11111111]\n",
      " [0.11111111]\n",
      " [0.11111111]\n",
      " [0.11111111]\n",
      " [0.11111111]\n",
      " [0.11111111]\n",
      " [0.11111111]]\n"
     ]
    }
   ],
   "source": [
    "bhubr = b0.copy()\n",
    "for k in range(100):\n",
    "    bhubr = Ahub@bhubr\n",
    "    \n",
    "print('100 iterations')\n",
    "print('bhubr = ',bhubr)"
   ]
  },
  {
   "cell_type": "code",
   "execution_count": 42,
   "metadata": {},
   "outputs": [
    {
     "name": "stdout",
     "output_type": "stream",
     "text": [
      "100 iterations\n",
      "bhubr =  [[0.11111111]\n",
      " [0.11111111]\n",
      " [0.11111111]\n",
      " [0.11111111]\n",
      " [0.11111111]\n",
      " [0.11111111]\n",
      " [0.11111111]\n",
      " [0.11111111]\n",
      " [0.11111111]]\n"
     ]
    }
   ],
   "source": [
    "bhubr = b0.copy()\n",
    "for k in range(100):\n",
    "    bhubr = Ahub@bhubr\n",
    "    \n",
    "print('100 iterations')\n",
    "print('bhubr = ',bhubr)"
   ]
  },
  {
   "cell_type": "markdown",
   "metadata": {},
   "source": [
    "#### Complete 4e and 4f below."
   ]
  },
  {
   "cell_type": "code",
   "execution_count": 44,
   "metadata": {},
   "outputs": [
    {
     "name": "stdout",
     "output_type": "stream",
     "text": [
      "100 iterations\n",
      "bhubr =  [[0.11111111]\n",
      " [0.11111111]\n",
      " [0.11111111]\n",
      " [0.11111111]\n",
      " [0.11111111]\n",
      " [0.11111111]\n",
      " [0.11111111]\n",
      " [0.11111111]\n",
      " [0.11111111]]\n"
     ]
    }
   ],
   "source": [
    "bhubr = b0.copy()\n",
    "for k in range(8):\n",
    "    bhubr = Ahub@bhubr\n",
    "    \n",
    "print('100 iterations')\n",
    "print('bhubr = ',bhubr)"
   ]
  },
  {
   "cell_type": "markdown",
   "metadata": {},
   "source": [
    "we can find that when the iterations = 8, it converges"
   ]
  },
  {
   "cell_type": "code",
   "execution_count": 41,
   "metadata": {},
   "outputs": [
    {
     "ename": "KeyboardInterrupt",
     "evalue": "",
     "output_type": "error",
     "traceback": [
      "\u001b[1;31m---------------------------------------------------------------------------\u001b[0m",
      "\u001b[1;31mKeyboardInterrupt\u001b[0m                         Traceback (most recent call last)",
      "Cell \u001b[1;32mIn[41], line 24\u001b[0m\n\u001b[0;32m     21\u001b[0m b0 \u001b[38;5;241m=\u001b[39m np\u001b[38;5;241m.\u001b[39mones((\u001b[38;5;241m9\u001b[39m, \u001b[38;5;241m1\u001b[39m)) \u001b[38;5;241m/\u001b[39m \u001b[38;5;241m9\u001b[39m\n\u001b[0;32m     23\u001b[0m \u001b[38;5;66;03m# Use the power method until convergence to find the specific number of iterations needed\u001b[39;00m\n\u001b[1;32m---> 24\u001b[0m final_vector, actual_iterations \u001b[38;5;241m=\u001b[39m \u001b[43mpower_method_until_convergence\u001b[49m\u001b[43m(\u001b[49m\u001b[43mAhub\u001b[49m\u001b[43m,\u001b[49m\u001b[43m \u001b[49m\u001b[43mb0\u001b[49m\u001b[43m)\u001b[49m\n\u001b[0;32m     26\u001b[0m final_vector, actual_iterations\n",
      "Cell \u001b[1;32mIn[41], line 12\u001b[0m, in \u001b[0;36mpower_method_until_convergence\u001b[1;34m(adj_matrix, initial_vector, tolerance)\u001b[0m\n\u001b[0;32m      9\u001b[0m b_next \u001b[38;5;241m=\u001b[39m adj_matrix \u001b[38;5;241m@\u001b[39m b_prev\n\u001b[0;32m     11\u001b[0m \u001b[38;5;66;03m# Check for convergence by comparing the change to the tolerance\u001b[39;00m\n\u001b[1;32m---> 12\u001b[0m \u001b[38;5;28;01mif\u001b[39;00m np\u001b[38;5;241m.\u001b[39mmax(\u001b[43mnp\u001b[49m\u001b[38;5;241;43m.\u001b[39;49m\u001b[43mabs\u001b[49m\u001b[43m(\u001b[49m\u001b[43mb_next\u001b[49m\u001b[43m \u001b[49m\u001b[38;5;241;43m-\u001b[39;49m\u001b[43m \u001b[49m\u001b[43mb_prev\u001b[49m\u001b[43m)\u001b[49m) \u001b[38;5;241m<\u001b[39m tolerance:\n\u001b[0;32m     13\u001b[0m     \u001b[38;5;28;01mbreak\u001b[39;00m\n\u001b[0;32m     15\u001b[0m b_prev \u001b[38;5;241m=\u001b[39m b_next\n",
      "\u001b[1;31mKeyboardInterrupt\u001b[0m: "
     ]
    }
   ],
   "source": [
    "# no, every nodes are equally important\n",
    "# Initialize the PageRank vector b0\n",
    "# Function to perform the power method until convergence with a tolerance level\n",
    "def power_method_until_convergence(adj_matrix, initial_vector, tolerance=1e-6):\n",
    "    b_prev = initial_vector\n",
    "    iterations = 0\n",
    "    while True:\n",
    "        # Perform the power method iteration\n",
    "        b_next = adj_matrix @ b_prev\n",
    "        \n",
    "        # Check for convergence by comparing the change to the tolerance\n",
    "        if np.max(np.abs(b_next - b_prev)) < tolerance:\n",
    "            break\n",
    "        \n",
    "        b_prev = b_next\n",
    "        iterations += 1\n",
    "        \n",
    "    return b_next, iterations\n",
    "\n",
    "# Initial vector b0\n",
    "b0 = np.ones((9, 1)) / 9\n",
    "\n",
    "# Use the power method until convergence to find the specific number of iterations needed\n",
    "final_vector, actual_iterations = power_method_until_convergence(Ahub, b0)\n",
    "\n",
    "final_vector, actual_iterations\n"
   ]
  }
 ],
 "metadata": {
  "kernelspec": {
   "display_name": "Python 3 (ipykernel)",
   "language": "python",
   "name": "python3"
  },
  "language_info": {
   "codemirror_mode": {
    "name": "ipython",
    "version": 3
   },
   "file_extension": ".py",
   "mimetype": "text/x-python",
   "name": "python",
   "nbconvert_exporter": "python",
   "pygments_lexer": "ipython3",
   "version": "3.11.5"
  }
 },
 "nbformat": 4,
 "nbformat_minor": 4
}
